{
 "cells": [
  {
   "cell_type": "code",
   "execution_count": 43,
   "id": "16d44717-a7e6-4e04-8ab0-2c663d907bc8",
   "metadata": {},
   "outputs": [],
   "source": [
    "!pip install torch"
   ]
  },
  {
   "cell_type": "code",
   "execution_count": null,
   "id": "bb5159a2",
   "metadata": {},
   "outputs": [],
   "source": [
    "# Настройки\n",
    "plt.style.use('ggplot')\n",
    "%matplotlib inline"
   ]
  },
  {
   "cell_type": "code",
   "execution_count": 62,
   "id": "abb9bfea-988a-4623-abcd-ff5cafad74f0",
   "metadata": {},
   "outputs": [],
   "source": [
    "import os\n",
    "import pandas as pd\n",
    "from pathlib import Path\n",
    "from PIL import Image\n",
    "import numpy as np\n",
    "import torch\n",
    "import torch.nn as nn\n",
    "import torch.optim as optim\n",
    "from torch.utils.data import Dataset, DataLoader\n",
    "import matplotlib.pyplot as plt\n",
    "from tqdm.notebook import tqdm\n",
    "import cv2\n",
    "\n",
    "class TumorDataset(Dataset):\n",
    "    def __init__(self, metadata, jpeg_dir, masks_dir=None, img_size=(256, 256)):\n",
    "        self.metadata = metadata\n",
    "        self.jpeg_dir = jpeg_dir\n",
    "        self.masks_dir = masks_dir\n",
    "        self.img_size = img_size\n",
    "        \n",
    "    def __len__(self):\n",
    "        return len(self.metadata)\n",
    "    \n",
    "    def __getitem__(self, idx):\n",
    "        row = self.metadata.iloc[idx]\n",
    "        \n",
    "        # Загрузка изображения\n",
    "        img_path = Path(row['image_path'])\n",
    "        img = Image.open(img_path)\n",
    "        img = img.convert('L')  # Конвертация в grayscale\n",
    "        img = img.resize(self.img_size)\n",
    "        img_array = np.array(img) / 255.0\n",
    "        img_tensor = torch.from_numpy(img_array).float().unsqueeze(0)\n",
    "        \n",
    "        # Обработка маски\n",
    "        mask_path = row.get('mask_path')\n",
    "        if mask_path is not None and pd.notna(mask_path) and Path(mask_path).exists():\n",
    "            mask = Image.open(mask_path)\n",
    "            mask = mask.resize(self.img_size)\n",
    "            mask_array = np.array(mask) > 0\n",
    "        else:\n",
    "            # Автоматическая сегментация, если нет маски\n",
    "            mask_array = self._segment_tumor(np.array(img))\n",
    "            \n",
    "        mask_tensor = torch.from_numpy(mask_array).float().unsqueeze(0)\n",
    "        \n",
    "        return img_tensor, mask_tensor\n",
    "    \n",
    "    def _segment_tumor(self, image):\n",
    "        \"\"\"Автоматическая сегментация опухоли\"\"\"\n",
    "        gray = cv2.cvtColor(image, cv2.COLOR_RGB2GRAY) if len(image.shape) == 3 else image\n",
    "        blur = cv2.GaussianBlur(gray, (5,5), 0)\n",
    "        _, binary = cv2.threshold(blur, 0, 255, cv2.THRESH_BINARY_INV + cv2.THRESH_OTSU)\n",
    "        return binary > 0\n",
    "\n",
    "class TumorTrainer:\n",
    "    def __init__(self, base_dir=\"data\"):\n",
    "        self.base_dir = Path(base_dir)\n",
    "        self.csv_dir = self.base_dir / \"csv\"\n",
    "        self.jpeg_dir = self.base_dir / \"jpeg\"\n",
    "        self.masks_dir = self.base_dir / \"masks\"\n",
    "        self.device = torch.device(\"cuda\" if torch.cuda.is_available() else \"cpu\")\n",
    "        \n",
    "    def _load_and_prepare_metadata(self, csv_file):\n",
    "        \"\"\"Загрузка и подготовка метаданных\"\"\"\n",
    "        print(f\"Загрузка метаданных из {csv_file}...\")\n",
    "        try:\n",
    "            df = pd.read_csv(self.csv_dir / csv_file)\n",
    "            \n",
    "            # Поиск путей к изображениям\n",
    "            df['image_path'] = df['image file path'].apply(\n",
    "                lambda x: self._find_image_path(x))\n",
    "            \n",
    "            # Поиск путей к маскам (если есть)\n",
    "            if 'cropped image file path' in df.columns:\n",
    "                df['mask_path'] = df['cropped image file path'].apply(\n",
    "                    lambda x: self._find_mask_path(x))\n",
    "            \n",
    "            df['has_image'] = df['image_path'].apply(\n",
    "                lambda x: x is not None and os.path.exists(x))\n",
    "            \n",
    "            valid_df = df[df['has_image']].copy()\n",
    "            print(f\"Найдено {len(valid_df)} валидных примеров\")\n",
    "            return valid_df\n",
    "            \n",
    "        except Exception as e:\n",
    "            print(f\"Ошибка загрузки: {str(e)}\")\n",
    "            return pd.DataFrame()\n",
    "    \n",
    "    def _find_image_path(self, csv_path):\n",
    "        \"\"\"Находит путь к изображению по данным из CSV\"\"\"\n",
    "        try:\n",
    "            parts = csv_path.split('/')\n",
    "            if len(parts) < 2:\n",
    "                return None\n",
    "                \n",
    "            uid = parts[-2]  # Получаем UID из пути\n",
    "            jpeg_file = next((self.jpeg_dir / uid).glob('*.jp*'), None)\n",
    "            return str(jpeg_file) if jpeg_file else None\n",
    "        except:\n",
    "            return None\n",
    "    \n",
    "    def _find_mask_path(self, csv_path):\n",
    "        \"\"\"Находит путь к маске по данным из CSV\"\"\"\n",
    "        try:\n",
    "            if not self.masks_dir.exists():\n",
    "                return None\n",
    "                \n",
    "            parts = csv_path.split('/')\n",
    "            if len(parts) < 2:\n",
    "                return None\n",
    "                \n",
    "            uid = parts[-2]\n",
    "            mask_file = next((self.masks_dir / uid).glob('*.png'), None)\n",
    "            return str(mask_file) if mask_file else None\n",
    "        except:\n",
    "            return None\n",
    "    \n",
    "    def load_datasets(self):\n",
    "        \"\"\"Загрузка тренировочного и тестового наборов\"\"\"\n",
    "        train_df = self._load_and_prepare_metadata(\"mass_case_description_train_set.csv\")\n",
    "        test_df = self._load_and_prepare_metadata(\"mass_case_description_test_set.csv\")\n",
    "        \n",
    "        if len(train_df) == 0 or len(test_df) == 0:\n",
    "            raise ValueError(\"Недостаточно данных для обучения\")\n",
    "        \n",
    "        train_dataset = TumorDataset(train_df, self.jpeg_dir, self.masks_dir)\n",
    "        test_dataset = TumorDataset(test_df, self.jpeg_dir, self.masks_dir)\n",
    "        \n",
    "        return train_dataset, test_dataset\n",
    "    \n",
    "    def train(self, epochs=25, batch_size=8, lr=1e-4):\n",
    "        \"\"\"Процесс обучения модели\"\"\"\n",
    "        train_dataset, val_dataset = self.load_datasets()\n",
    "        \n",
    "        train_loader = DataLoader(train_dataset, batch_size=batch_size, shuffle=True)\n",
    "        val_loader = DataLoader(val_dataset, batch_size=batch_size)\n",
    "        \n",
    "        model = UNet().to(self.device)\n",
    "        criterion = nn.BCELoss()\n",
    "        optimizer = optim.Adam(model.parameters(), lr=lr)\n",
    "        \n",
    "        best_val_loss = float('inf')\n",
    "        history = {'train_loss': [], 'val_loss': []}\n",
    "        \n",
    "        for epoch in range(epochs):\n",
    "            model.train()\n",
    "            train_loss = 0.0\n",
    "            \n",
    "            for images, masks in tqdm(train_loader, desc=f\"Epoch {epoch+1}/{epochs}\"):\n",
    "                images, masks = images.to(self.device), masks.to(self.device)\n",
    "                \n",
    "                optimizer.zero_grad()\n",
    "                outputs = model(images)\n",
    "                loss = criterion(outputs, masks)\n",
    "                loss.backward()\n",
    "                optimizer.step()\n",
    "                \n",
    "                train_loss += loss.item()\n",
    "            \n",
    "            # Валидация\n",
    "            val_loss = 0.0\n",
    "            model.eval()\n",
    "            with torch.no_grad():\n",
    "                for images, masks in val_loader:\n",
    "                    images, masks = images.to(self.device), masks.to(self.device)\n",
    "                    outputs = model(images)\n",
    "                    val_loss += criterion(outputs, masks).item()\n",
    "            \n",
    "            train_loss /= len(train_loader)\n",
    "            val_loss /= len(val_loader)\n",
    "            history['train_loss'].append(train_loss)\n",
    "            history['val_loss'].append(val_loss)\n",
    "            \n",
    "            print(f\"Epoch {epoch+1}/{epochs} | \"\n",
    "                  f\"Train Loss: {train_loss:.4f} | \"\n",
    "                  f\"Val Loss: {val_loss:.4f}\")\n",
    "            \n",
    "            if val_loss < best_val_loss:\n",
    "                best_val_loss = val_loss\n",
    "                torch.save(model.state_dict(), 'best_model.pth')\n",
    "                print(\"Сохранена новая лучшая модель\")\n",
    "        \n",
    "        # Визуализация процесса обучения\n",
    "        plt.figure(figsize=(10, 5))\n",
    "        plt.plot(history['train_loss'], label='Train Loss')\n",
    "        plt.plot(history['val_loss'], label='Validation Loss')\n",
    "        plt.xlabel('Epoch')\n",
    "        plt.ylabel('Loss')\n",
    "        plt.legend()\n",
    "        plt.title('График обучения')\n",
    "        plt.show()\n",
    "        \n",
    "        return model\n",
    "\n",
    "class UNet(nn.Module):\n",
    "    def __init__(self):\n",
    "        super(UNet, self).__init__()\n",
    "        \n",
    "        # Encoder (downsampling)\n",
    "        self.enc1 = self.conv_block(1, 64)\n",
    "        self.enc2 = self.conv_block(64, 128)\n",
    "        self.enc3 = self.conv_block(128, 256)\n",
    "        self.enc4 = self.conv_block(256, 512)\n",
    "        \n",
    "        # Bottleneck\n",
    "        self.bottleneck = self.conv_block(512, 1024)\n",
    "        \n",
    "        # Decoder (upsampling)\n",
    "        self.upconv4 = self.upconv_block(1024, 512)\n",
    "        self.dec4 = self.conv_block(1024, 512)\n",
    "        self.upconv3 = self.upconv_block(512, 256)\n",
    "        self.dec3 = self.conv_block(512, 256)\n",
    "        self.upconv2 = self.upconv_block(256, 128)\n",
    "        self.dec2 = self.conv_block(256, 128)\n",
    "        self.upconv1 = self.upconv_block(128, 64)\n",
    "        self.dec1 = self.conv_block(128, 64)\n",
    "        \n",
    "        # Output\n",
    "        self.conv_out = nn.Conv2d(64, 1, kernel_size=1)\n",
    "        self.pool = nn.MaxPool2d(2)\n",
    "        \n",
    "    def conv_block(self, in_channels, out_channels):\n",
    "        return nn.Sequential(\n",
    "            nn.Conv2d(in_channels, out_channels, kernel_size=3, padding=1),\n",
    "            nn.BatchNorm2d(out_channels),\n",
    "            nn.ReLU(inplace=True),\n",
    "            nn.Conv2d(out_channels, out_channels, kernel_size=3, padding=1),\n",
    "            nn.BatchNorm2d(out_channels),\n",
    "            nn.ReLU(inplace=True)\n",
    "        )\n",
    "    \n",
    "    def upconv_block(self, in_channels, out_channels):\n",
    "        return nn.ConvTranspose2d(\n",
    "            in_channels, out_channels, kernel_size=2, stride=2)\n",
    "    \n",
    "    def forward(self, x):\n",
    "        # Encoder\n",
    "        enc1 = self.enc1(x)\n",
    "        enc2 = self.enc2(self.pool(enc1))\n",
    "        enc3 = self.enc3(self.pool(enc2))\n",
    "        enc4 = self.enc4(self.pool(enc3))\n",
    "        \n",
    "        # Bottleneck\n",
    "        bottleneck = self.bottleneck(self.pool(enc4))\n",
    "        \n",
    "        # Decoder\n",
    "        dec4 = self.upconv4(bottleneck)\n",
    "        dec4 = torch.cat([dec4, enc4], dim=1)\n",
    "        dec4 = self.dec4(dec4)\n",
    "        \n",
    "        dec3 = self.upconv3(dec4)\n",
    "        dec3 = torch.cat([dec3, enc3], dim=1)\n",
    "        dec3 = self.dec3(dec3)\n",
    "        \n",
    "        dec2 = self.upconv2(dec3)\n",
    "        dec2 = torch.cat([dec2, enc2], dim=1)\n",
    "        dec2 = self.dec2(dec2)\n",
    "        \n",
    "        dec1 = self.upconv1(dec2)\n",
    "        dec1 = torch.cat([dec1, enc1], dim=1)\n",
    "        dec1 = self.dec1(dec1)\n",
    "        \n",
    "        return torch.sigmoid(self.conv_out(dec1))\n"
   ]
  },
  {
   "cell_type": "code",
   "execution_count": 63,
   "id": "f83aaf51-6f99-4d2a-b087-abba12e4171a",
   "metadata": {},
   "outputs": [
    {
     "name": "stdout",
     "output_type": "stream",
     "text": [
      "Загрузка метаданных из mass_case_description_train_set.csv...\n",
      "Найдено 1318 валидных примеров\n",
      "Загрузка метаданных из mass_case_description_test_set.csv...\n",
      "Найдено 378 валидных примеров\n"
     ]
    },
    {
     "data": {
      "application/vnd.jupyter.widget-view+json": {
       "model_id": "b2ace0de8f414668a36f09311fa10034",
       "version_major": 2,
       "version_minor": 0
      },
      "text/plain": [
       "Epoch 1/15:   0%|          | 0/165 [00:00<?, ?it/s]"
      ]
     },
     "metadata": {},
     "output_type": "display_data"
    },
    {
     "name": "stdout",
     "output_type": "stream",
     "text": [
      "Epoch 1/15 | Train Loss: 0.2025 | Val Loss: 0.1488\n",
      "Сохранена новая лучшая модель\n"
     ]
    },
    {
     "data": {
      "application/vnd.jupyter.widget-view+json": {
       "model_id": "6c7667ec3fb147289f2ec72b622e67a9",
       "version_major": 2,
       "version_minor": 0
      },
      "text/plain": [
       "Epoch 2/15:   0%|          | 0/165 [00:00<?, ?it/s]"
      ]
     },
     "metadata": {},
     "output_type": "display_data"
    },
    {
     "name": "stdout",
     "output_type": "stream",
     "text": [
      "Epoch 2/15 | Train Loss: 0.1293 | Val Loss: 0.1130\n",
      "Сохранена новая лучшая модель\n"
     ]
    },
    {
     "data": {
      "application/vnd.jupyter.widget-view+json": {
       "model_id": "02b714e7710b4ff39a38606fbf159e96",
       "version_major": 2,
       "version_minor": 0
      },
      "text/plain": [
       "Epoch 3/15:   0%|          | 0/165 [00:00<?, ?it/s]"
      ]
     },
     "metadata": {},
     "output_type": "display_data"
    },
    {
     "name": "stdout",
     "output_type": "stream",
     "text": [
      "Epoch 3/15 | Train Loss: 0.0984 | Val Loss: 0.0826\n",
      "Сохранена новая лучшая модель\n"
     ]
    },
    {
     "data": {
      "application/vnd.jupyter.widget-view+json": {
       "model_id": "0bf842e90d884f2fa56cda1def8c3052",
       "version_major": 2,
       "version_minor": 0
      },
      "text/plain": [
       "Epoch 4/15:   0%|          | 0/165 [00:00<?, ?it/s]"
      ]
     },
     "metadata": {},
     "output_type": "display_data"
    },
    {
     "name": "stdout",
     "output_type": "stream",
     "text": [
      "Epoch 4/15 | Train Loss: 0.0768 | Val Loss: 0.0623\n",
      "Сохранена новая лучшая модель\n"
     ]
    },
    {
     "data": {
      "application/vnd.jupyter.widget-view+json": {
       "model_id": "98b3a316cf674edaae22298c9d6913a7",
       "version_major": 2,
       "version_minor": 0
      },
      "text/plain": [
       "Epoch 5/15:   0%|          | 0/165 [00:00<?, ?it/s]"
      ]
     },
     "metadata": {},
     "output_type": "display_data"
    },
    {
     "name": "stdout",
     "output_type": "stream",
     "text": [
      "Epoch 5/15 | Train Loss: 0.0621 | Val Loss: 0.0622\n",
      "Сохранена новая лучшая модель\n"
     ]
    },
    {
     "data": {
      "application/vnd.jupyter.widget-view+json": {
       "model_id": "05e3e7c77011409a96e5212c30a4e4c7",
       "version_major": 2,
       "version_minor": 0
      },
      "text/plain": [
       "Epoch 6/15:   0%|          | 0/165 [00:00<?, ?it/s]"
      ]
     },
     "metadata": {},
     "output_type": "display_data"
    },
    {
     "name": "stdout",
     "output_type": "stream",
     "text": [
      "Epoch 6/15 | Train Loss: 0.0547 | Val Loss: 0.0474\n",
      "Сохранена новая лучшая модель\n"
     ]
    },
    {
     "data": {
      "application/vnd.jupyter.widget-view+json": {
       "model_id": "32a05ad349db461f9561f959868c28d5",
       "version_major": 2,
       "version_minor": 0
      },
      "text/plain": [
       "Epoch 7/15:   0%|          | 0/165 [00:00<?, ?it/s]"
      ]
     },
     "metadata": {},
     "output_type": "display_data"
    },
    {
     "name": "stdout",
     "output_type": "stream",
     "text": [
      "Epoch 7/15 | Train Loss: 0.0482 | Val Loss: 0.0397\n",
      "Сохранена новая лучшая модель\n"
     ]
    },
    {
     "data": {
      "application/vnd.jupyter.widget-view+json": {
       "model_id": "2b109e685a17435099c21b1f32805f9c",
       "version_major": 2,
       "version_minor": 0
      },
      "text/plain": [
       "Epoch 8/15:   0%|          | 0/165 [00:00<?, ?it/s]"
      ]
     },
     "metadata": {},
     "output_type": "display_data"
    },
    {
     "name": "stdout",
     "output_type": "stream",
     "text": [
      "Epoch 8/15 | Train Loss: 0.0441 | Val Loss: 0.0390\n",
      "Сохранена новая лучшая модель\n"
     ]
    },
    {
     "data": {
      "application/vnd.jupyter.widget-view+json": {
       "model_id": "c6c3139e8dbd404db592f851bcb41970",
       "version_major": 2,
       "version_minor": 0
      },
      "text/plain": [
       "Epoch 9/15:   0%|          | 0/165 [00:00<?, ?it/s]"
      ]
     },
     "metadata": {},
     "output_type": "display_data"
    },
    {
     "name": "stdout",
     "output_type": "stream",
     "text": [
      "Epoch 9/15 | Train Loss: 0.0399 | Val Loss: 0.0351\n",
      "Сохранена новая лучшая модель\n"
     ]
    },
    {
     "data": {
      "application/vnd.jupyter.widget-view+json": {
       "model_id": "9876866e15e84e3a8180fd1dcbda2592",
       "version_major": 2,
       "version_minor": 0
      },
      "text/plain": [
       "Epoch 10/15:   0%|          | 0/165 [00:00<?, ?it/s]"
      ]
     },
     "metadata": {},
     "output_type": "display_data"
    },
    {
     "name": "stdout",
     "output_type": "stream",
     "text": [
      "Epoch 10/15 | Train Loss: 0.0369 | Val Loss: 0.0323\n",
      "Сохранена новая лучшая модель\n"
     ]
    },
    {
     "data": {
      "application/vnd.jupyter.widget-view+json": {
       "model_id": "4ca6e96283ca44378fb13f5e262576dd",
       "version_major": 2,
       "version_minor": 0
      },
      "text/plain": [
       "Epoch 11/15:   0%|          | 0/165 [00:00<?, ?it/s]"
      ]
     },
     "metadata": {},
     "output_type": "display_data"
    },
    {
     "name": "stdout",
     "output_type": "stream",
     "text": [
      "Epoch 11/15 | Train Loss: 0.0361 | Val Loss: 0.0356\n"
     ]
    },
    {
     "data": {
      "application/vnd.jupyter.widget-view+json": {
       "model_id": "66616e9ca7ef405eb9586a6d74515a11",
       "version_major": 2,
       "version_minor": 0
      },
      "text/plain": [
       "Epoch 12/15:   0%|          | 0/165 [00:00<?, ?it/s]"
      ]
     },
     "metadata": {},
     "output_type": "display_data"
    },
    {
     "name": "stdout",
     "output_type": "stream",
     "text": [
      "Epoch 12/15 | Train Loss: 0.0337 | Val Loss: 0.0286\n",
      "Сохранена новая лучшая модель\n"
     ]
    },
    {
     "data": {
      "application/vnd.jupyter.widget-view+json": {
       "model_id": "a2cc6334f31445d3b346f85f74209af4",
       "version_major": 2,
       "version_minor": 0
      },
      "text/plain": [
       "Epoch 13/15:   0%|          | 0/165 [00:00<?, ?it/s]"
      ]
     },
     "metadata": {},
     "output_type": "display_data"
    },
    {
     "name": "stdout",
     "output_type": "stream",
     "text": [
      "Epoch 13/15 | Train Loss: 0.0300 | Val Loss: 0.0310\n"
     ]
    },
    {
     "data": {
      "application/vnd.jupyter.widget-view+json": {
       "model_id": "d2ca0951766843808aa89d8c11765671",
       "version_major": 2,
       "version_minor": 0
      },
      "text/plain": [
       "Epoch 14/15:   0%|          | 0/165 [00:00<?, ?it/s]"
      ]
     },
     "metadata": {},
     "output_type": "display_data"
    },
    {
     "name": "stdout",
     "output_type": "stream",
     "text": [
      "Epoch 14/15 | Train Loss: 0.0290 | Val Loss: 0.0327\n"
     ]
    },
    {
     "data": {
      "application/vnd.jupyter.widget-view+json": {
       "model_id": "61c8a21beced4ed3b80da221641fd8cb",
       "version_major": 2,
       "version_minor": 0
      },
      "text/plain": [
       "Epoch 15/15:   0%|          | 0/165 [00:00<?, ?it/s]"
      ]
     },
     "metadata": {},
     "output_type": "display_data"
    },
    {
     "name": "stdout",
     "output_type": "stream",
     "text": [
      "Epoch 15/15 | Train Loss: 0.0292 | Val Loss: 0.0281\n",
      "Сохранена новая лучшая модель\n"
     ]
    },
    {
     "data": {
      "image/png": "[encoded data removed]",
      "text/plain": [
       "<Figure size 1000x500 with 1 Axes>"
      ]
     },
     "metadata": {},
     "output_type": "display_data"
    }
   ],
   "source": [
    "trainer = TumorTrainer(base_dir=\"data\")\n",
    "model = trainer.train(epochs=15, batch_size=8)"
   ]
  },
  {
   "cell_type": "code",
   "execution_count": null,
   "id": "a4c8071c-9491-40ba-b5b6-5ed90fd2e42f",
   "metadata": {},
   "outputs": [],
   "source": []
  }
 ],
 "metadata": {
  "kernelspec": {
   "display_name": "Python 3 (ipykernel)",
   "language": "python",
   "name": "python3"
  },
  "language_info": {
   "codemirror_mode": {
    "name": "ipython",
    "version": 3
   },
   "file_extension": ".py",
   "mimetype": "text/x-python",
   "name": "python",
   "nbconvert_exporter": "python",
   "pygments_lexer": "ipython3",
   "version": "3.9.7"
  }
 },
 "nbformat": 4,
 "nbformat_minor": 5
}
